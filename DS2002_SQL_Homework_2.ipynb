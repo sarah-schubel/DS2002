{
  "nbformat": 4,
  "nbformat_minor": 0,
  "metadata": {
    "colab": {
      "provenance": []
    },
    "kernelspec": {
      "name": "python3",
      "display_name": "Python 3"
    },
    "language_info": {
      "name": "python"
    }
  },
  "cells": [
    {
      "cell_type": "code",
      "execution_count": 1,
      "metadata": {
        "id": "dCrDAwsbxFL_"
      },
      "outputs": [],
      "source": [
        "import sqlite3\n",
        "\n",
        "connection = sqlite3.connect('student_grades.db')"
      ]
    },
    {
      "cell_type": "code",
      "source": [
        "cursor = connection.cursor()"
      ],
      "metadata": {
        "id": "OjduWL6Lym_k"
      },
      "execution_count": 2,
      "outputs": []
    },
    {
      "cell_type": "code",
      "source": [
        "cursor.execute('''\n",
        "CREATE TABLE IF NOT EXISTS students (\n",
        "    student_id INTEGER PRIMARY KEY AUTOINCREMENT,\n",
        "    first_name TEXT,\n",
        "    last_name TEXT\n",
        ")\n",
        "''')"
      ],
      "metadata": {
        "colab": {
          "base_uri": "https://localhost:8080/"
        },
        "id": "tdXalc_0ysE-",
        "outputId": "e24f875e-fa13-4db6-b911-dbd6ce481407"
      },
      "execution_count": 3,
      "outputs": [
        {
          "output_type": "execute_result",
          "data": {
            "text/plain": [
              "<sqlite3.Cursor at 0x7e783e8c7340>"
            ]
          },
          "metadata": {},
          "execution_count": 3
        }
      ]
    },
    {
      "cell_type": "code",
      "source": [
        "cursor.execute('''\n",
        "CREATE TABLE IF NOT EXISTS grades (\n",
        "    grade_id INTEGER PRIMARY KEY AUTOINCREMENT,\n",
        "    student_id INTEGER,\n",
        "    subject TEXT,\n",
        "    grade INTEGER,\n",
        "    FOREIGN KEY (student_id) REFERENCES students(student_id)\n",
        ")\n",
        "''')"
      ],
      "metadata": {
        "colab": {
          "base_uri": "https://localhost:8080/"
        },
        "id": "F2kSqZHyyu58",
        "outputId": "81e396c0-be5f-42a3-be6f-6eaa18616062"
      },
      "execution_count": 4,
      "outputs": [
        {
          "output_type": "execute_result",
          "data": {
            "text/plain": [
              "<sqlite3.Cursor at 0x7e783e8c7340>"
            ]
          },
          "metadata": {},
          "execution_count": 4
        }
      ]
    },
    {
      "cell_type": "code",
      "source": [
        "students = [\n",
        "    ('Alice', 'Johnson'),\n",
        "    ('Bob', 'Smith'),\n",
        "    ('Carol', 'White'),\n",
        "    ('David', 'Brown'),\n",
        "    ('Eve', 'Davis')\n",
        "]\n",
        "\n",
        "cursor.executemany('''\n",
        "INSERT INTO students (first_name, last_name)\n",
        "VALUES (?, ?)\n",
        "''', students)\n",
        "\n",
        "connection.commit()"
      ],
      "metadata": {
        "id": "ld42Jl9Vyxq7"
      },
      "execution_count": 5,
      "outputs": []
    },
    {
      "cell_type": "code",
      "source": [
        "grades = [\n",
        "    (1, 'Math', 95),\n",
        "    (1, 'English', 88),\n",
        "    (1, 'History', 90),\n",
        "    (2, 'Math', 82),\n",
        "    (2, 'English', 76),\n",
        "    (2, 'History', 85),\n",
        "    (3, 'Math', 91),\n",
        "    (3, 'English', 89),\n",
        "    (3, 'History', 85),\n",
        "    (4, 'Math', 70),\n",
        "    (4, 'English', 80),\n",
        "    (4, 'History', 75),\n",
        "    (5, 'Math', 92),\n",
        "    (5, 'English', 94),\n",
        "    (5, 'History', 89)\n",
        "]\n",
        "\n",
        "cursor.executemany('''\n",
        "INSERT INTO grades (student_id, subject, grade)\n",
        "VALUES (?, ?, ?)\n",
        "''', grades)\n",
        "\n",
        "connection.commit()"
      ],
      "metadata": {
        "id": "MkDdITfSy0Bv"
      },
      "execution_count": 6,
      "outputs": []
    },
    {
      "cell_type": "code",
      "source": [
        "cursor.execute('''\n",
        "SELECT s.first_name, s.last_name, g.subject, g.grade\n",
        "FROM students s\n",
        "JOIN grades g ON s.student_id = g.student_id\n",
        "''')\n",
        "\n",
        "results = cursor.fetchall()\n",
        "\n",
        "for x in results:\n",
        "    print(x)"
      ],
      "metadata": {
        "colab": {
          "base_uri": "https://localhost:8080/"
        },
        "id": "5j-XVqI_y2Kw",
        "outputId": "53372c20-1000-4808-89d6-07cfd4013e3f"
      },
      "execution_count": 7,
      "outputs": [
        {
          "output_type": "stream",
          "name": "stdout",
          "text": [
            "('Alice', 'Johnson', 'Math', 95)\n",
            "('Alice', 'Johnson', 'English', 88)\n",
            "('Alice', 'Johnson', 'History', 90)\n",
            "('Bob', 'Smith', 'Math', 82)\n",
            "('Bob', 'Smith', 'English', 76)\n",
            "('Bob', 'Smith', 'History', 85)\n",
            "('Carol', 'White', 'Math', 91)\n",
            "('Carol', 'White', 'English', 89)\n",
            "('Carol', 'White', 'History', 85)\n",
            "('David', 'Brown', 'Math', 70)\n",
            "('David', 'Brown', 'English', 80)\n",
            "('David', 'Brown', 'History', 75)\n",
            "('Eve', 'Davis', 'Math', 92)\n",
            "('Eve', 'Davis', 'English', 94)\n",
            "('Eve', 'Davis', 'History', 89)\n"
          ]
        }
      ]
    },
    {
      "cell_type": "code",
      "source": [
        "cursor.execute('''\n",
        "SELECT s.first_name, s.last_name, AVG(g.grade) AS average_grade\n",
        "FROM students s\n",
        "JOIN grades g ON s.student_id = g.student_id\n",
        "GROUP BY s.student_id\n",
        "''')\n",
        "\n",
        "results = cursor.fetchall()\n",
        "\n",
        "for x in results:\n",
        "  print(x)"
      ],
      "metadata": {
        "colab": {
          "base_uri": "https://localhost:8080/"
        },
        "id": "0k2Mqv-cy5bS",
        "outputId": "d35da542-905b-458a-c5c1-4db1ff114bab"
      },
      "execution_count": 8,
      "outputs": [
        {
          "output_type": "stream",
          "name": "stdout",
          "text": [
            "('Alice', 'Johnson', 91.0)\n",
            "('Bob', 'Smith', 81.0)\n",
            "('Carol', 'White', 88.33333333333333)\n",
            "('David', 'Brown', 75.0)\n",
            "('Eve', 'Davis', 91.66666666666667)\n"
          ]
        }
      ]
    },
    {
      "cell_type": "code",
      "source": [
        "cursor.execute('''\n",
        "SELECT first_name, last_name\n",
        "FROM (\n",
        "    SELECT s.first_name, s.last_name, AVG(g.grade) AS average_grade\n",
        "    FROM students s\n",
        "    JOIN grades g ON s.student_id = g.student_id\n",
        "    GROUP BY s.student_id\n",
        ") AS avgerage_grades\n",
        "ORDER BY average_grade DESC\n",
        "LIMIT 1\n",
        "''')\n",
        "\n",
        "results = cursor.fetchone()\n",
        "\n",
        "for x in results:\n",
        "  print(x)"
      ],
      "metadata": {
        "colab": {
          "base_uri": "https://localhost:8080/"
        },
        "id": "S1p03wxB0WLA",
        "outputId": "6160e411-3e9a-49ac-e4d2-c9ef286b21da"
      },
      "execution_count": 18,
      "outputs": [
        {
          "output_type": "stream",
          "name": "stdout",
          "text": [
            "Eve\n",
            "Davis\n"
          ]
        }
      ]
    },
    {
      "cell_type": "code",
      "source": [
        "cursor.execute('''\n",
        "SELECT AVG(grade) AS average_math_grade\n",
        "FROM grades\n",
        "WHERE subject = \"Math\"\n",
        "''')\n",
        "\n",
        "results = cursor.fetchone()\n",
        "\n",
        "for x in results:\n",
        "  print(x)"
      ],
      "metadata": {
        "colab": {
          "base_uri": "https://localhost:8080/"
        },
        "id": "tlsUrDPH1pga",
        "outputId": "1dd42176-61e3-47d5-e8b1-5239f5000d6a"
      },
      "execution_count": 13,
      "outputs": [
        {
          "output_type": "stream",
          "name": "stdout",
          "text": [
            "86.0\n"
          ]
        }
      ]
    },
    {
      "cell_type": "code",
      "source": [
        "cursor.execute('''\n",
        "SELECT DISTINCT s.first_name, s.last_name\n",
        "FROM students s\n",
        "JOIN grades g ON s.student_id = g.student_id\n",
        "WHERE g.grade > 90\n",
        "''')\n",
        "\n",
        "results = cursor.fetchall()\n",
        "\n",
        "for x in results:\n",
        "  print(x)"
      ],
      "metadata": {
        "colab": {
          "base_uri": "https://localhost:8080/"
        },
        "id": "50ZOfPHE2DIn",
        "outputId": "867e244d-3da6-4c43-9478-d9843c6c1574"
      },
      "execution_count": 15,
      "outputs": [
        {
          "output_type": "stream",
          "name": "stdout",
          "text": [
            "('Alice', 'Johnson')\n",
            "('Carol', 'White')\n",
            "('Eve', 'Davis')\n"
          ]
        }
      ]
    },
    {
      "cell_type": "code",
      "source": [
        "import pandas as pd"
      ],
      "metadata": {
        "id": "GtgI3uU93iv3"
      },
      "execution_count": 25,
      "outputs": []
    },
    {
      "cell_type": "code",
      "source": [
        "df_students = pd.read_sql_query('SELECT * FROM students', connection)\n",
        "\n",
        "df_grades = pd.read_sql_query('SELECT * FROM grades', connection)\n",
        "\n",
        "df_combined = pd.merge(df_students, df_grades, on = 'student_id')"
      ],
      "metadata": {
        "id": "Awogl_CV4uu7"
      },
      "execution_count": 26,
      "outputs": []
    },
    {
      "cell_type": "code",
      "source": [
        "import matplotlib.pyplot as plt"
      ],
      "metadata": {
        "id": "LJw3xJvR8Bmd"
      },
      "execution_count": 27,
      "outputs": []
    },
    {
      "cell_type": "code",
      "source": [
        "avg_grades_per_student = df_combined.groupby(['first_name', 'last_name'])['grade'].mean().reset_index()\n",
        "plt.bar(avg_grades_per_student['first_name'] + '' + avg_grades_per_student['last_name'], avg_grades_per_student['grade'])\n",
        "plt.xlabel('Student')\n",
        "plt.ylabel('Average Grade')\n",
        "plt.title('Average Grades for Each Student')\n",
        "plt.show()"
      ],
      "metadata": {
        "colab": {
          "base_uri": "https://localhost:8080/",
          "height": 472
        },
        "id": "M6rHtyNr8oCw",
        "outputId": "214b9ffe-7e5c-4439-8a15-de4dbc0ec752"
      },
      "execution_count": 29,
      "outputs": [
        {
          "output_type": "display_data",
          "data": {
            "text/plain": [
              "<Figure size 640x480 with 1 Axes>"
            ],
            "image/png": "[encoded data removed]"
          },
          "metadata": {}
        }
      ]
    },
    {
      "cell_type": "code",
      "source": [
        "avg_grades_per_subject = df_combined.groupby('subject')['grade'].mean().reset_index()\n",
        "plt.bar(avg_grades_per_subject['subject'], avg_grades_per_subject['grade'])\n",
        "plt.xlabel('Subject')\n",
        "plt.ylabel('Average Grade')\n",
        "plt.title('Average Grades for Each Subject')\n",
        "plt.show()"
      ],
      "metadata": {
        "colab": {
          "base_uri": "https://localhost:8080/",
          "height": 472
        },
        "id": "VxOgV5CX9eG5",
        "outputId": "6437cf7c-4d42-49d3-f19a-ff5c84c64ffa"
      },
      "execution_count": 30,
      "outputs": [
        {
          "output_type": "display_data",
          "data": {
            "text/plain": [
              "<Figure size 640x480 with 1 Axes>"
            ],
            "image/png": "[encoded data removed]"
          },
          "metadata": {}
        }
      ]
    },
    {
      "cell_type": "code",
      "source": [
        "cursor.execute('''\n",
        "WITH max_grades AS (\n",
        "  SELECT subject, MAX(grade) AS max_grade\n",
        "  FROM grades\n",
        "  GROUP BY subject\n",
        ")\n",
        "SELECT s.first_name, s.last_name, g.subject, g.grade\n",
        "FROM max_grades mg\n",
        "JOIN grades g ON mg.subject = g.subject AND mg.max_grade = g.grade\n",
        "JOIN students s ON g.student_id = s.student_id\n",
        "''')\n",
        "\n",
        "results = cursor.fetchall()\n",
        "\n",
        "for x in results:\n",
        "  print(x)"
      ],
      "metadata": {
        "colab": {
          "base_uri": "https://localhost:8080/"
        },
        "id": "AkFJ3Ytw9yBk",
        "outputId": "59aee940-bd39-4680-e8aa-70d55231e033"
      },
      "execution_count": 33,
      "outputs": [
        {
          "output_type": "stream",
          "name": "stdout",
          "text": [
            "('Alice', 'Johnson', 'Math', 95)\n",
            "('Alice', 'Johnson', 'History', 90)\n",
            "('Eve', 'Davis', 'English', 94)\n"
          ]
        }
      ]
    },
    {
      "cell_type": "code",
      "source": [
        "df_max_grades = pd.read_sql_query('''WITH max_grades AS (\n",
        "  SELECT subject, MAX(grade) AS max_grade\n",
        "  FROM grades\n",
        "  GROUP BY subject\n",
        ")\n",
        "SELECT s.first_name, s.last_name, g.subject, g.grade\n",
        "FROM max_grades mg\n",
        "JOIN grades g ON mg.subject = g.subject AND mg.max_grade = g.grade\n",
        "JOIN students s ON g.student_id = s.student_id\n",
        "'''\n",
        "    , connection)"
      ],
      "metadata": {
        "id": "Wby5iCLp_68a"
      },
      "execution_count": 36,
      "outputs": []
    },
    {
      "cell_type": "code",
      "source": [
        "df_pivot = df_max_grades.pivot(index = 'subject', columns = ['first_name', 'last_name'], values = 'grade')\n",
        "df_pivot.plot(kind = 'bar')\n",
        "plt.xlabel('Subject')\n",
        "plt.ylabel('Grade')\n",
        "plt.legend('Student Name')\n",
        "plt.title('Highest Grades for Each Student in Every Subject')\n",
        "plt.show()"
      ],
      "metadata": {
        "colab": {
          "base_uri": "https://localhost:8080/",
          "height": 508
        },
        "id": "1DL8HGaY-z8F",
        "outputId": "f65114d5-d23c-4924-db67-e2042c6f67d7"
      },
      "execution_count": 37,
      "outputs": [
        {
          "output_type": "display_data",
          "data": {
            "text/plain": [
              "<Figure size 640x480 with 1 Axes>"
            ],
            "image/png": "[encoded data removed]"
          },
          "metadata": {}
        }
      ]
    },
    {
      "cell_type": "code",
      "source": [
        "connection.close()"
      ],
      "metadata": {
        "id": "orFBdQyHAZN8"
      },
      "execution_count": 38,
      "outputs": []
    }
  ]
}