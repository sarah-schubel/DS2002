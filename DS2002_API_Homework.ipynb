{
  "nbformat": 4,
  "nbformat_minor": 0,
  "metadata": {
    "colab": {
      "provenance": []
    },
    "kernelspec": {
      "name": "python3",
      "display_name": "Python 3"
    },
    "language_info": {
      "name": "python"
    }
  },
  "cells": [
    {
      "cell_type": "code",
      "source": [
        "import requests\n",
        "import pandas as pd\n",
        "\n",
        "# Replace 'YOUR_API_KEY' with your actual API key\n",
        "API_KEY = 'api_key'\n",
        "# Take user input for a stock ticker symbol\n",
        "ticker = input(\"Enter the stock ticker symbol: \").strip().upper()\n",
        "\n",
        "querystring = {\"symbols\": ticker}\n",
        "\n",
        "headers = {\n",
        "    'x-api-key': 'api_key'\n",
        "}\n",
        "\n",
        "try:\n",
        "    # Handles the normal data\n",
        "    url = \"https://yfapi.net/v6/finance/quote\"\n",
        "    response = requests.request(\"GET\", url, headers=headers, params=querystring)\n",
        "    stock_data = response.json()\n",
        "\n",
        "    # Extract relevant information\n",
        "    ticker_name = stock_data['quoteResponse']['result'][0]['symbol']\n",
        "    full_name = stock_data['quoteResponse']['result'][0]['longName']\n",
        "    market_price = stock_data['quoteResponse']['result'][0]['regularMarketPrice']\n",
        "    week_52_high = stock_data['quoteResponse']['result'][0]['fiftyTwoWeekHigh']\n",
        "    week_52_low = stock_data['quoteResponse']['result'][0]['fiftyTwoWeekLow']\n",
        "\n",
        "    trending_url = 'https://yfapi.net/v1/finance/trending/US'\n",
        "    response = requests.request(\"GET\", trending_url, headers=headers)\n",
        "    trending_data = response.json()\n",
        "\n",
        "    # Extract the first 5 trending stocks\n",
        "    trending_stocks = [quote['symbol'] for quote in trending_data['finance']['result'][0]['quotes'][:5]]\n",
        "\n",
        "    print(\"\\nTrending Stocks:\")\n",
        "    for stock in trending_stocks:\n",
        "        print(stock)\n",
        "\n",
        "    # Handle the damn targetMeanPrice\n",
        "    data_url = 'https://yfapi.net/v11/finance/quoteSummary/' + ticker\n",
        "    querystring = {\"modules\": \"financialData\"}\n",
        "    response = requests.request(\"GET\", data_url, headers=headers, params=querystring)\n",
        "    data_data = response.json()\n",
        "    target_mean_price = data_data['quoteSummary']['result'][0]['financialData']['targetMeanPrice']['raw']\n",
        "\n",
        "    # Show the users the data\n",
        "    print(\"\\nStock Information:\")\n",
        "    print(f\"Ticker Name: {ticker_name}\")\n",
        "    print(f\"Full Name: {full_name}\")\n",
        "    print(f\"Current Market Price: {market_price}\")\n",
        "    print(f\"Target Mean Price: {target_mean_price}\")\n",
        "    print(f\"52 Week High: {week_52_high}\")\n",
        "    print(f\"52 Week Low: {week_52_low}\")\n",
        "\n",
        "    # Store data in a DataFrame\n",
        "    stock_info = {\n",
        "        \"Ticker Name\": ticker_name,\n",
        "        \"Full Name\": full_name,\n",
        "        \"Current Market Price\": market_price,\n",
        "        \"Target Mean Price\": target_mean_price,\n",
        "        \"52 Week High\": week_52_high,\n",
        "        \"52 Week Low\": week_52_low,\n",
        "        \"5 Trending Stocks\": trending_stocks\n",
        "    }\n",
        "\n",
        "    df = pd.DataFrame([stock_info])\n",
        "    df.to_csv(f\"{ticker}_stock_data.csv\", index=False)\n",
        "    print(f\"\\nStock data saved to {ticker}_stock_data.csv\")\n",
        "except:\n",
        "    print(\"There was an error that occured\")"
      ],
      "metadata": {
        "colab": {
          "base_uri": "https://localhost:8080/"
        },
        "id": "Cd0Eb10hP2dP",
        "outputId": "b119c77d-9523-4f05-bf65-beb9d26d787a"
      },
      "execution_count": 14,
      "outputs": [
        {
          "output_type": "stream",
          "name": "stdout",
          "text": [
            "Enter the stock ticker symbol: AAPL\n",
            "\n",
            "Trending Stocks:\n",
            "AMSC\n",
            "PWR\n",
            "SNAP\n",
            "SOL-USD\n",
            "GC=F\n",
            "\n",
            "Stock Information:\n",
            "Ticker Name: AAPL\n",
            "Full Name: Apple Inc.\n",
            "Current Market Price: 227.725\n",
            "Target Mean Price: 240.58\n",
            "52 Week High: 237.23\n",
            "52 Week Low: 164.08\n",
            "\n",
            "Stock data saved to AAPL_stock_data.csv\n"
          ]
        }
      ]
    }
  ]
}